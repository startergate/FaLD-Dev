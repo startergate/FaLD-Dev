{
 "cells": [
  {
   "cell_type": "code",
   "execution_count": 1,
   "metadata": {},
   "outputs": [
    {
     "name": "stdout",
     "output_type": "stream",
     "text": [
      "['bundesliga_i.png', 'bundesliga_n.png', 'burgerking_i.png', 'burgerking_n.png', 'yonsei_i.png', 'youtube_i.png']\n"
     ]
    }
   ],
   "source": [
    "import tensorflow as tf\n",
    "import numpy as np\n",
    "import os\n",
    "from PIL import Image as pImage\n",
    "\n",
    "pathDir = \"./image\"\n",
    "fileList = os.listdir(pathDir)\n",
    "print(fileList)"
   ]
  },
  {
   "cell_type": "code",
   "execution_count": 2,
   "metadata": {},
   "outputs": [],
   "source": [
    "X = tf.placeholder(tf.float32, [None, 300, 300, 1])\n",
    "Y = tf.placeholder(tf.float32, [None, 2])\n",
    "isTraining = tf.placeholder(tf.bool)\n",
    "global_step = tf.Variable(0, trainable=False, name='global_step')"
   ]
  },
  {
   "cell_type": "code",
   "execution_count": 3,
   "metadata": {},
   "outputs": [],
   "source": [
    "L1 = tf.layers.conv2d(X, 128, [3, 3], activation=tf.nn.relu, padding='SAME')\n",
    "L1 = tf.layers.max_pooling2d(L1, [2, 2], [2, 2])\n",
    "L1 = tf.layers.dropout(L1, 0.7, isTraining)"
   ]
  },
  {
   "cell_type": "code",
   "execution_count": 4,
   "metadata": {},
   "outputs": [],
   "source": [
    "L2 = tf.layers.conv2d(L1, 256, [3, 3], activation=tf.nn.relu, padding='SAME')\n",
    "L2 = tf.layers.max_pooling2d(L2, [2, 2], [2, 2])\n",
    "L2 = tf.layers.dropout(L2, 0.7, isTraining)"
   ]
  },
  {
   "cell_type": "code",
   "execution_count": 5,
   "metadata": {},
   "outputs": [],
   "source": [
    "L3 = tf.contrib.layers.flatten(L2)\n",
    "L3 = tf.layers.dense(L3, 1024, activation=tf.nn.relu)\n",
    "L3 = tf.layers.dropout(L3, 0.5, isTraining)"
   ]
  },
  {
   "cell_type": "code",
   "execution_count": 6,
   "metadata": {},
   "outputs": [],
   "source": [
    "model = tf.layers.dense(L3, 2, activation=None)"
   ]
  },
  {
   "cell_type": "code",
   "execution_count": 7,
   "metadata": {},
   "outputs": [],
   "source": [
    "cost = tf.reduce_mean(tf.nn.softmax_cross_entropy_with_logits_v2(logits=model, labels=Y))\n",
    "optimizer = tf.train.AdamOptimizer(0.001).minimize(cost, global_step)"
   ]
  },
  {
   "cell_type": "code",
   "execution_count": 8,
   "metadata": {},
   "outputs": [
    {
     "name": "stdout",
     "output_type": "stream",
     "text": [
      "[<PIL.Image.Image image mode=L size=300x300 at 0x23A5A1043C8>, <PIL.Image.Image image mode=L size=300x300 at 0x23A66AAFEF0>, <PIL.Image.Image image mode=L size=300x300 at 0x23A66C61C18>, <PIL.Image.Image image mode=L size=300x300 at 0x23A66C61CF8>, <PIL.Image.Image image mode=L size=300x300 at 0x23A66C61D30>, <PIL.Image.Image image mode=L size=300x300 at 0x23A66C61DA0>]\n"
     ]
    }
   ],
   "source": [
    "imgs = []\n",
    "i = 0\n",
    "for imgName in fileList:\n",
    "    imgTemp = pImage.open(pathDir+'/'+imgName)\n",
    "    imgTemp = imgTemp.resize((300, 300))\n",
    "    imgs.append(imgTemp.convert(\"L\"))\n",
    "    \n",
    "print(imgs)"
   ]
  },
  {
   "cell_type": "code",
   "execution_count": null,
   "metadata": {},
   "outputs": [
    {
     "name": "stdout",
     "output_type": "stream",
     "text": [
      "branch2\n"
     ]
    }
   ],
   "source": [
    "sess = tf.Session()\n",
    "saver = tf.train.Saver(tf.global_variables())\n",
    "ckpt = tf.train.get_checkpoint_state('./model')\n",
    "if ckpt and tf.train.checkpoint_exists(ckpt.model_checkpoint_path):\n",
    "    print(\"branch1\")\n",
    "    saver.restore(sess, ckpt.model_checkpoint_path)\n",
    "else:\n",
    "    print(\"branch2\")\n",
    "    sess.run(tf.global_variables_initializer())\n",
    "print(\"variables init complete\")"
   ]
  },
  {
   "cell_type": "code",
   "execution_count": null,
   "metadata": {
    "scrolled": false
   },
   "outputs": [],
   "source": [
    "for epoch in range(1):\n",
    "    totalCost = 0\n",
    "    \n",
    "    for img in imgs:\n",
    "        print(img)\n",
    "        data = np.array(img)\n",
    "        img.show()\n",
    "        print(data)\n",
    "        target = []\n",
    "        if imgName.split('_')[1] == \"i\":\n",
    "            target = [0, 1]\n",
    "        else:\n",
    "            target = [1, 0]\n",
    "        \n",
    "        _, costVal = sess.run([optimizer, cost], feed_dict={X:data, Y:target, isTraining: True})\n",
    "        print(target)\n",
    "        totalCost += costVal\n",
    "        \n",
    "    print('Epoch: ', '%04d' % sess.run(global_step),\n",
    "          'Avg. Cost: %3f' % (totalCost / len(fileList)))"
   ]
  },
  {
   "cell_type": "code",
   "execution_count": null,
   "metadata": {},
   "outputs": [],
   "source": [
    "saver.save(sess, './model/fald.ckpt', global_step=global_step)"
   ]
  },
  {
   "cell_type": "code",
   "execution_count": null,
   "metadata": {},
   "outputs": [],
   "source": []
  }
 ],
 "metadata": {
  "kernelspec": {
   "display_name": "Python 3",
   "language": "python",
   "name": "python3"
  },
  "language_info": {
   "codemirror_mode": {
    "name": "ipython",
    "version": 3
   },
   "file_extension": ".py",
   "mimetype": "text/x-python",
   "name": "python",
   "nbconvert_exporter": "python",
   "pygments_lexer": "ipython3",
   "version": "3.6.7"
  }
 },
 "nbformat": 4,
 "nbformat_minor": 2
}
